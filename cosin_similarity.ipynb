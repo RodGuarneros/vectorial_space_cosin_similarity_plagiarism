{
 "cells": [
  {
   "cell_type": "markdown",
   "id": "860ec1de-81ca-47e1-8a22-472a026d9fa7",
   "metadata": {},
   "source": [
    "\n",
    "<section style=\"background-color: powderblue;\">\n",
    "<br>\n",
    "    \n",
    "# **Modelado Vectorial**\n",
    "## Materia: Procesamiento de Información\n",
    "## Maestría en Ciencia de Datos e Información\n",
    "## **Profesor: Dr. José Luis Jiménez Márquez**\n",
    "## Alumno: Rodrigo Guarneros Gutiérrez\n",
    "\n",
    "<br>\n",
    "</section>\n"
   ]
  },
  {
   "cell_type": "markdown",
   "id": "b9c16594-8a98-4909-bc7b-3aa81eeeedeb",
   "metadata": {},
   "source": [
    "<span style=\"color:DarkGreen; font-size: 30px;\">Introducción</span>\n",
    "\n",
    "El objetivo de esta actividad es detectar,  a nivel básico por medio de una medida de ***similitud coseno***, el plagio que hay dentro de un conjunto de 2,370 documentos sospechosos y 237 documentos fuente.\n",
    "\n",
    "Para tal efecto, este documento tiene las siguientes secciones:\n",
    "\n",
    "1. Resumen ejecutivo\n",
    "2. Obtención de información\n",
    "3. Normalización de cada documento por lista (folder)\n",
    "    * Mayúsculas\n",
    "    * Símbolos\n",
    "    * Tokenización\n",
    "    * Stop Words\n",
    "    * Stemming (derivación)\n",
    "4. Similitud coseno para todos los archivos\n",
    "5. Cálculo de la similaridad de Jaccard y Dice a partir del espacio vectorial definido y para hacer más comparables los resultados.\n",
    "6. Los resultados en una sola tabla\n",
    "7. Comparación Gráfica\n",
    "8. Conclusiones"
   ]
  },
  {
   "cell_type": "markdown",
   "id": "a4eca09b-17e6-4f3e-bfda-f0ab7dda15f5",
   "metadata": {},
   "source": [
    "<span style=\"color:DarkGreen; font-size: 30px;\">Dependencias</span>"
   ]
  },
  {
   "cell_type": "code",
   "execution_count": 1,
   "id": "75050c11-a2a0-4e0c-9169-d80ae3824ff7",
   "metadata": {},
   "outputs": [
    {
     "name": "stdout",
     "output_type": "stream",
     "text": [
      "Requirement already satisfied: scikit-learn in c:\\users\\rodri\\appdata\\roaming\\jupyterlab-desktop\\jlab_server\\lib\\site-packages (1.2.2)\n",
      "Requirement already satisfied: joblib>=1.1.1 in c:\\users\\rodri\\appdata\\roaming\\jupyterlab-desktop\\jlab_server\\lib\\site-packages (from scikit-learn) (1.2.0)\n",
      "Requirement already satisfied: scipy>=1.3.2 in c:\\users\\rodri\\appdata\\roaming\\jupyterlab-desktop\\jlab_server\\lib\\site-packages (from scikit-learn) (1.9.3)\n",
      "Requirement already satisfied: numpy>=1.17.3 in c:\\users\\rodri\\appdata\\roaming\\jupyterlab-desktop\\jlab_server\\lib\\site-packages (from scikit-learn) (1.23.5)\n",
      "Requirement already satisfied: threadpoolctl>=2.0.0 in c:\\users\\rodri\\appdata\\roaming\\jupyterlab-desktop\\jlab_server\\lib\\site-packages (from scikit-learn) (3.1.0)\n"
     ]
    }
   ],
   "source": [
    "!pip install -U scikit-learn"
   ]
  },
  {
   "cell_type": "code",
   "execution_count": 2,
   "id": "06a6dc4c-cf5d-45fb-88da-870fae2e037a",
   "metadata": {},
   "outputs": [
    {
     "name": "stderr",
     "output_type": "stream",
     "text": [
      "[nltk_data] Downloading package stopwords to\n",
      "[nltk_data]     C:\\Users\\rodri\\AppData\\Roaming\\nltk_data...\n",
      "[nltk_data]   Package stopwords is already up-to-date!\n"
     ]
    }
   ],
   "source": [
    "# Dependencias: \n",
    "import io\n",
    "import os\n",
    "import pandas as pd\n",
    "from collections import Counter\n",
    "import pandas as pd\n",
    "import matplotlib.pyplot as plt\n",
    "import seaborn as sn\n",
    "import unicodedata\n",
    "import math\n",
    "import seaborn as sns\n",
    "import numpy as np\n",
    "import nltk\n",
    "import string\n",
    "import pickle\n",
    "from scipy.stats import rankdata\n",
    "nltk.download('stopwords')\n",
    "from nltk.corpus import stopwords\n",
    "import random\n",
    "import itertools\n"
   ]
  },
  {
   "cell_type": "markdown",
   "id": "1523983a-3b27-4f8c-97e6-e1237e996687",
   "metadata": {},
   "source": [
    "<section style=\"background-color: powderblue;\">\n",
    "<br>\n",
    "\n",
    "# 1. Resumen ejecutivo\n",
    "\n",
    "<br>\n",
    "</section>"
   ]
  },
  {
   "cell_type": "markdown",
   "id": "f4312a31-0970-4638-a98c-fe35f5f9b3ac",
   "metadata": {},
   "source": [
    "<section style=\"background-color: #F5FCFF;\">\n",
    "<br>\n",
    "\n",
    "\n",
    "## Pre-procesamiento\n",
    "\n",
    "Después de idear la mejor forma de cargar todos los documentos disponibles en las carpetas de sospechosos y fuentes a manera de listas sobre las que se puedan realizar operaciones de iteración, se procedió al preprocesamiento de los datos, incluyendo los siguientes pasos:\n",
    "\n",
    "- Control de Mayúsculas\n",
    "- Control de Símbolos\n",
    "- Tokenización\n",
    "- Control de Stop Words\n",
    "- Aplicación del algorítmo de Stemming (derivación), basado en Porter\n",
    "\n",
    "## Vectorización y regla de relativización (evitemos la frecuencia absoluta con Term Frequency - Inverse Document (TF-IDF))\n",
    "\n",
    "La similaridad de coseno se considera una técnica mucho más refinada que las anteriores. Su enfoque forma parte de vectoriales o distribucionales y están basados en una matriz de co-ocurrencia, una forma de representar qué tan frecuente es un lenguaje común (todas las columnas de la matriz) en cada uno de los documentos; estos últimos corresponden a cada renglón de la matriz. \n",
    "\n",
    "En este caso en particular, hemos definido una matriz de co-ocurrencia con dimensión (2607, 25624), donde 2607 corresponden a la suma de los 237 documentos fuente y 2370 documentos sospechosos (237+2370 = 2607) mientras que los 25624 se refiere a los componentes vectorizados que conforman un lenguaje común en todo el corpus.\n",
    "\n",
    "En esta actividad, se procede a vectorizar los documentos basados en la bolsa de palabras común en todos los documentos. No obstante, la literatura señala que utilizar las frecuencias absolutas en una vectorización de los componenetes de cada documento podría estar sesgada al no conocer el contexto de los documentos. Para tal efecto, se recomienda considera la frecuencia de las palabras que ocurren al rededor de cada palabra, para tal efecto se sugiere utilizar la ponderación **tf-idf**; donde **tf** se refiere a la frecuencia del término en el documento i, e **idf** o la inversa de la frecuencia del documento donde **N** es el número total en la colección y **df** es el número de documentos donde aparece la palabra o término. Lo anterior proporciona un \"peso\" más alto a las palabras que ocurren solamente en algunos documentos. Así, el ***Term Frequency-Inverse Document Frequency (TF-IDF)*** es el producto punto de **tf** e **idf**:\n",
    "\n",
    "\n",
    "$$w_{ij} = \\text{tf}_{ij} \\cdot \\log\\left(\\frac{N}{\\text{df}_i}\\right)$$\n",
    "\n",
    "Donde, \n",
    "$w_{ij}$ es el peso del término $i$ en el documento $j$;\n",
    "${tf}_{ij}$ es la frecuencia del término $i$ en el documento $j$; $N$ es el número total de documentos en la colección, y\n",
    "${df_i}$ es el número de documentos que contiene el término $i$.\n",
    "\n",
    "\n",
    "## Similaridad de Coseno, Jaccard y Dice\n",
    "\n",
    "Con estos vectores donde se identifica la frecuencia relativa de cada término (columna) en cada documento (renglón), de acuerdo a las reglas de relativización previamente descritos, estamos en posibilidades de aplicar la ***Similaridad de Coseno***, definida como se indica a continuación: \n",
    "\n",
    "\n",
    "$$\\text{cosine.similarity}(A, B) = \\frac{A \\cdot B}{\\lVert A \\rVert \\lVert B \\rVert} = \\frac{{\\lVert A \\rVert \\lVert B \\rVert}*Cos(\\Theta)}{\\lVert A \\rVert \\lVert B \\rVert}$$\n",
    "\n",
    "Donde ${A \\cdot B}$ es el producto punto de los vectores que representan dos documentos y ${\\lVert A \\rVert \\lVert B \\rVert}$ representan las magnitudes de ambos documentos A y B.\n",
    "\n",
    "\n",
    "Para efectos de poder comparar adecuadamente cada score de similaridad, se implementa Jaccard y Dice con peso relativo, utilizando la matriz de co-ocurrencia que se utilizó para calcular la Similaridad de Coseno. A continuación se describen las otras similaridades que ya habían sido calculadas previamente:\n",
    "\n",
    "Con cada archivo pre-procesado, se elaboraron las funciones correspondientes a la implementación de la similaridad de Jaccard con peso, conforme a la literatura revisada: \n",
    "\n",
    "$$Jaccard(doc_1, doc_2) = \\frac{|doc_1 \\cap doc_2|}{|doc_1 \\cup doc_2|}$$\n",
    "\n",
    "En los mismo términos, se implementó una función también para el cálculo de la similaridad de Dice, en los siguientes términos:\n",
    "\n",
    "$$Dice(doc_1, doc_2) = \\frac{2 |doc_1 \\cap doc_2|}{|doc_1| + |doc_2|}$$\n",
    "\n",
    "## Resumen tabular\n",
    "Para este caso en particular se aplicó para todo el conjunto de documentos sospechosos (***2,370 textos***) y todo el conjunto de los documentos fuente (***237 textos***). Como resultado de lo anterior, se obtuvo que en el top 20 de los documentos con mayor score de plagio, tomando en cuenta todos los documentos disponibles, dandonos el siguiente resultado donde se pueden visualizar los que tienen el mayor índice de plagio. Asimismo, se confirma que la similaridad de Jaccard continua siendo de los scores más bajos, menos o hasta la mitad de los otros scores (Coseno y Dice), en consistencia con las definiciones matemáticas de estos algorítmos de similaridad (nota, en el desarrollo de abajo se presentan los resultados de los 2,370 textos sospechosos):\n",
    "\n",
    "|      | Documentos_Sospechosos      |   Similaridad_Coseno |   Similaridad_Jaccard |   Similaridad_Dice |\n",
    "|-----:|:----------------------------|---------------------:|----------------------:|-------------------:|\n",
    "| 2368 | suspicious-document2369.txt |             0.244168 |             0.110821  |          0.199531  |\n",
    "| 2078 | suspicious-document2079.txt |             0.175745 |             0.0812854 |          0.15035   |\n",
    "| 2058 | suspicious-document2059.txt |             0.174216 |             0.066055  |          0.123924  |\n",
    "| 2363 | suspicious-document2364.txt |             0.170941 |             0.12297   |          0.219008  |\n",
    "| 2369 | suspicious-document2370.txt |             0.159698 |             0.123232  |          0.219424  |\n",
    "| 2059 | suspicious-document2060.txt |             0.153756 |             0.0699433 |          0.130742  |\n",
    "| 2038 | suspicious-document2039.txt |             0.142314 |             0.0813008 |          0.150376  |\n",
    "| 2039 | suspicious-document2040.txt |             0.141998 |             0.0819048 |          0.151408  |\n",
    "| 1939 | suspicious-document1940.txt |             0.13649  |             0.0652174 |          0.122449  |\n",
    "|   99 | suspicious-document0100.txt |             0.128563 |             0.0594059 |          0.11215   |\n",
    "| 1546 | suspicious-document1547.txt |             0.125648 |             0.059633  |          0.112554  |\n",
    "| 2219 | suspicious-document2220.txt |             0.125428 |             0.0472727 |          0.0902778 |\n",
    "| 1410 | suspicious-document1411.txt |             0.125314 |             0.0572082 |          0.108225  |\n",
    "| 1438 | suspicious-document1439.txt |             0.122626 |             0.0712743 |          0.133065  |\n",
    "|  308 | suspicious-document0309.txt |             0.12017  |             0.0568182 |          0.107527  |\n",
    "|  619 | suspicious-document0620.txt |             0.113032 |             0.0667976 |          0.12523   |\n",
    "| 1047 | suspicious-document1048.txt |             0.112642 |             0.0747253 |          0.139059  |\n",
    "| 1418 | suspicious-document1419.txt |             0.111092 |             0.0585106 |          0.110553  |\n",
    "| 1938 | suspicious-document1939.txt |             0.109869 |             0.0774194 |          0.143713  |\n",
    "| 1262 | suspicious-document1263.txt |             0.109822 |             0.0549199 |          0.104121  |\n",
    "\n",
    "## Comparación Gráfica\n",
    "\n",
    "La comparación gráfica nos permite confirmar lo que establece en Manning & Shütze (1999), página 299, la métrica de Jaccard penaliza casi al doble del criterio de Dice a aquellos documentos que comparten una proporción muy pequeña de sus elementos (como una propoción de todos los elementos no-cero). Ambos miden en el rango de 0 (no hay traslape entre los elementos) y 1 (existe traslape perfecto entre todos los elementos). Pero el coeficiente de Jaccard proporciona bajos valores para los casos donde el traslape es bajo. El ejemplo del autor es muy claro: dos listas con 10 elementos \"no cero\" y sólo una entrada en común proporciona los siguientes valores: Dice = 2x1/(10+10)=0.1 y Jaccard = 1/(10+10-1)=0.5. En el caso de nuestros scores, se puede ver que el máximo valor es dado al documento denominado \"suspicious-document2369.txt\" con un score de Coseno de 0.24, un score de Dice de 0.19 y una similaridad de Jaccard de 0.11 (24% de ese texto es considerado como común a las fuentes originales de acuerdo con la similaridad de coseno y de 20% con la similaridad de Jaccard). Como se puede ver en la gráfica, los niveles de Dice son regularmente el doble de los reportados con la metodología de Jaccard, sin perder de vista una estructura similar. En constraste, si comparamos a Dice con Coseno, podríamos encontrar que la similaridad tienden a no coincidir, seguramente porque la similaridad de Coseno toma en cuenta el peso relativo de los términos en su contexto, mientras que Dice le proporciona el mismo peso.\n",
    "\n",
    "De acuerdo con la literatura, la similaridad de Coseno es mucho más versatil en la medida que puede utilizarse para comparar textos de cualquier tamaño, mientras que la similaridad de Dice y Jaccard son más utilizadas para comparaciones binarias y, por consiguiente, para temas de clasificación y clúster. Como indicamos en las conclusiones, la repetición de los componentes o términos son tomados en cuenta en el caso de la similaridad de Coseno, pero no para Jaccard y Dice. \n",
    "\n",
    "Se dice, entonces, que la similaridad de coseno es mejor para casos donde se comparan más de dos documentos u oraciones y donde la repetición (contexto) es importante y la extensión de los documentos cuenta. \n",
    "\n",
    "<p align=\"center\">\n",
    "    <img src=\"Comparativo.png\">\n",
    "    </p>\n",
    "\n",
    "## Conclusiones\n",
    "\n",
    "1. Como se establece en Manning & Shütze (1999), página 299, la métrica de Jaccard penaliza casi al doble del criterio de Dice a aquellos documentos que comparten una proporción muy pequeña de sus elementos (como una propoción de todos los elementos no-cero). Ambos miden en el rango de 0 (no hay traslape entre los elementos) y 1 (existe traslape perfecto entre todos los elementos). Pero el coeficiente de Jaccard proporciona bajos valores para los casos donde el traslape es bajo. El ejemplo del autor es muy claro: dos listas con 10 elementos \"no cero\" y sólo una entrada en común proporciona los siguientes valores: Dice = 2x1/(10+10)=0.1 y Jaccard = 1/(10+10-1)=0.5.\n",
    "\n",
    "2. Lo que se pudo confirmar en la literatura revisada fue que la clasificación ***tf-idf*** clasifica los documentos como un todo y a las palabras según el contexto (la repetición de las palabras cercanas). En este sentido, las similaridades de Jaccard y Dice toman solamente un conjunto único de palabras para cada oración o documento; mientras que el algoritmo de coseno toma la dimensión total de los vectores (lenguaje común elaborado con todos los componentes de todos los documentos normalizados).\n",
    "\n",
    "3. En este sentido, si encontramos repetida varias veces la palabra \"commission\" en la oración 1 o en el documento 1, la similaridad de coseno cambiará. Mientras que la similaridad de Jaccard o Dice no cambiará (En otras palabras, la repetición si importa en el caso de la similaridad de coseno).\n",
    "\n",
    "3. Esta actividad permitió confirmar cómo se comporta una similaridad de coseno. Según este artículo \"A Survey of Text Similarity Approaches\" de Gomathi y Suresh y disponible en: https://www.researchgate.net/publication/259181798_A_Survey_of_Text_Similarity_Approaches, esta técnica es más común para comparación de textos y las de Dice y Jaccard son más usadas comunmente para tareas de clustering y clasificación.\n",
    "\n",
    "<br>\n",
    "</section>\n"
   ]
  },
  {
   "cell_type": "markdown",
   "id": "abf63af6-5e84-4ab8-a819-f781164089a0",
   "metadata": {},
   "source": [
    "<section style=\"background-color: powderblue;\">\n",
    "<br>\n",
    "\n",
    "# 2. Obteniendo la información\n",
    "\n",
    "<br>\n",
    "</section>"
   ]
  },
  {
   "cell_type": "code",
   "execution_count": 3,
   "id": "ebb622d9-4761-4989-af91-045ced85edcf",
   "metadata": {},
   "outputs": [
    {
     "name": "stdout",
     "output_type": "stream",
     "text": [
      "Leyendo todos los textos...\n",
      "Se trata de 2370 textos sospechosos de plagio\n",
      "Un ejemplo del primer elemento de la lista de sospechosos:\n",
      " WASHINGTON  ( AP )--  Robert Rubin  spent much of his life speculating what the stock market would do. He was good at it and made  $ 100 million . When he came to  Washington ,  Rubin  did essentially the same thing, speculating that if President  Clinton  would balance the budget, he would be rewarded with a booming economy. To the surprise of many, that argument caught  Clinton 's ear. And in the six years since, first as a top economic adviser and since  1995  as the  Treasury  secretary,  Rubin  has gained much credit-- in a close partnership with  Federal Reserve  Chairman  Alan Greenspa\n"
     ]
    }
   ],
   "source": [
    "# Textos sospechosos de plagio\n",
    "\n",
    "folder_path_sospechosos = \"./suspicious-documents/\"\n",
    "sospechosos = []\n",
    "\n",
    "# Iteramos sobre los elementos que están contenidos en el folder de sospechosos\n",
    "for archivo in os.listdir(folder_path_sospechosos):\n",
    "    if archivo.endswith(\".txt\"):\n",
    "        # Se construye el path completo de cada archivo con extensión txt\n",
    "        file_path = os.path.join(folder_path_sospechosos, archivo)\n",
    "        with open(file_path, \"r\", encoding=\"UTF-8\") as f:\n",
    "            contenidos = f.read()\n",
    "            sospechosos.append(contenidos)\n",
    "\n",
    "print('Leyendo todos los textos...')\n",
    "print(f'Se trata de {len(sospechosos)} textos sospechosos de plagio')            \n",
    "print('Un ejemplo del primer elemento de la lista de sospechosos:')\n",
    "print(sospechosos[0][:600])  # imprime como ejemplo una fracción del texto inicial.\n",
    "\n"
   ]
  },
  {
   "cell_type": "code",
   "execution_count": 4,
   "id": "460c8455-cb61-416a-84df-d0af8c0be74a",
   "metadata": {},
   "outputs": [
    {
     "name": "stdout",
     "output_type": "stream",
     "text": [
      "Leyendo todos los textos...\n",
      "Se trata de 237 textos fuente\n",
      "Un ejemplo del primer elemento de la lista de textos fuente:\n",
      "While the commission stopped short of blaming Chief Gates for these problems, it said that no chief should serve more than two consecutive five-year terms, and that Mr. Gates, having served 13 years, should therefore turn in his badge following a transition period. But the chief, who has remained steadfast through repeated calls from community leaders for his ouster, said later: \"I don't expect to just run away\" from the job. Nearly one-quarter of 650 officers responding to a commission survey agreed that \"racial bias on the part of officers toward minority citizens currently exists and contri\n"
     ]
    }
   ],
   "source": [
    "# Textos originales o fuente\n",
    "\n",
    "folder_path_fuentes = \"./source-documents/\"\n",
    "fuentes = []\n",
    "\n",
    "# Iteramos sobre los elementos que están contenidos en el folder de fuentes\n",
    "for archivo in os.listdir(folder_path_fuentes):\n",
    "    if archivo.endswith(\".txt\"):\n",
    "        # Se construye el path completo de cada archivo con extensión txt\n",
    "        file_path = os.path.join(folder_path_fuentes, archivo)\n",
    "        with open(file_path, \"r\", encoding=\"UTF-8\") as f:\n",
    "            contenidos = f.read()\n",
    "            fuentes.append(contenidos)\n",
    "\n",
    "print('Leyendo todos los textos...')\n",
    "print(f'Se trata de {len(fuentes)} textos fuente')            \n",
    "print('Un ejemplo del primer elemento de la lista de textos fuente:')\n",
    "print(fuentes[0][:600])  # imprime como ejemplo una fracción del texto inicial.\n"
   ]
  },
  {
   "cell_type": "markdown",
   "id": "ecf0e57b-1316-4a14-a7e6-e9f33a620d30",
   "metadata": {},
   "source": [
    "<section style=\"background-color: powderblue;\">\n",
    "<br>\n",
    "\n",
    "# 3. Normalización\n",
    "\n",
    "<br>\n",
    "</section>"
   ]
  },
  {
   "cell_type": "markdown",
   "id": "d40f7b25-ef7b-40fe-8ab2-34f657c7a51c",
   "metadata": {},
   "source": [
    "# 3.1 Mayúsculas en cada lista"
   ]
  },
  {
   "cell_type": "code",
   "execution_count": 5,
   "id": "b1440580-0cbf-4f28-8cec-4a22558786f3",
   "metadata": {},
   "outputs": [
    {
     "data": {
      "text/plain": [
       "'while the commission stopped short of blaming chief gates for these problems, it said that no chief should serve more than two consecutive five-year terms, and that mr. gates, having served 13 years, should therefore turn in his badge following a transition period. but the chief, who has remained steadfast through repeated calls from community leaders for his ouster, said later: \"i don\\'t expect to just run away\" from the job. nearly one-quarter of 650 officers responding to a commission survey agreed that \"racial bias on the part of officers toward minority citizens currently exists and contri'"
      ]
     },
     "execution_count": 5,
     "metadata": {},
     "output_type": "execute_result"
    }
   ],
   "source": [
    "# cada elemento en minúscula\n",
    "fuentes_minusculas = [fuentes[i].lower() for i in range(len(fuentes))]\n",
    "fuentes_minusculas[0][:600]"
   ]
  },
  {
   "cell_type": "code",
   "execution_count": 6,
   "id": "6e694bff-c213-4cc5-b7e5-ff848a6f92f3",
   "metadata": {},
   "outputs": [
    {
     "data": {
      "text/plain": [
       "\" washington  ( ap )--  robert rubin  spent much of his life speculating what the stock market would do. he was good at it and made  $ 100 million . when he came to  washington ,  rubin  did essentially the same thing, speculating that if president  clinton  would balance the budget, he would be rewarded with a booming economy. to the surprise of many, that argument caught  clinton 's ear. and in the six years since, first as a top economic adviser and since  1995  as the  treasury  secretary,  rubin  has gained much credit-- in a close partnership with  federal reserve  chairman  alan greenspa\""
      ]
     },
     "execution_count": 6,
     "metadata": {},
     "output_type": "execute_result"
    }
   ],
   "source": [
    "# cada elemento en minúscula\n",
    "sospechosos_minusculas = [sospechosos[i].lower() for i in range(len(sospechosos))]\n",
    "sospechosos_minusculas[0][:600]"
   ]
  },
  {
   "cell_type": "markdown",
   "id": "f46b0f68-13b1-42eb-be1f-0478df6f4c9a",
   "metadata": {},
   "source": [
    "# 3.2. Búsqueda de símbolos y eliminación"
   ]
  },
  {
   "cell_type": "code",
   "execution_count": 7,
   "id": "eb4779fc-4971-42c7-9b07-5c7a2b177430",
   "metadata": {},
   "outputs": [
    {
     "data": {
      "text/plain": [
       "' washington    ap      robert rubin  spent much of his life speculating what the stock market would do  he was good at it and made    100 million   when he came to  washington    rubin  did essentially the same thing  speculating that if president  clinton  would balance the budget  he would be rewarded with a booming economy  to the surprise of many  that argument caught  clinton  s ear  and in the six years since  first as a top economic adviser and since  1995  as the  treasury  secretary   rubin  has gained much credit   in a close partnership with  federal reserve  chairman  alan greenspa'"
      ]
     },
     "execution_count": 7,
     "metadata": {},
     "output_type": "execute_result"
    }
   ],
   "source": [
    "# SOSPECHOSOS\n",
    "sospechosos_minusc_simbol = [sospechosos_minusculas[i].translate({ord(i): ' ' for i in \"\"''\",' ', '\\n', '`', ''', '/', '%', 'ø', '\\xad', '+', 'μ', 'æ', 'ß', '_', '·', 'ð', '&', '=', '``', '''', '*', '!', '#', '{', '}','`', '$', '\\\\', '.', '(', ')', '--', ':', '``', \"''\", \"' '\", '``'\"}) for i in range (len(sospechosos_minusculas))]\n",
    "sospechosos_minusc_simbol[0][0:600]"
   ]
  },
  {
   "cell_type": "code",
   "execution_count": 8,
   "id": "5b21bdee-c9ee-49ba-aed0-0761f00965f2",
   "metadata": {},
   "outputs": [
    {
     "data": {
      "text/plain": [
       "'while the commission stopped short of blaming chief gates for these problems  it said that no chief should serve more than two consecutive five year terms  and that mr  gates  having served 13 years  should therefore turn in his badge following a transition period  but the chief  who has remained steadfast through repeated calls from community leaders for his ouster  said later  \"i don t expect to just run away\" from the job  nearly one quarter of 650 officers responding to a commission survey agreed that \"racial bias on the part of officers toward minority citizens currently exists and contri'"
      ]
     },
     "execution_count": 8,
     "metadata": {},
     "output_type": "execute_result"
    }
   ],
   "source": [
    "# FUENTES\n",
    "fuentes_minusc_simbol = [fuentes_minusculas[i].translate({ord(i): ' ' for i in \"\"''\",' ',  '\\n', '`', ''', '/', '%', 'ø', '\\xad', '+', 'μ', 'æ', 'ß', '_', '·', '!', '#', '{', '}', 'ð', '&', '=', '''', '*', '``', '`', '$', '\\\\', '.', '(', ')', '--', ':', '``', \"''\", \"' '\", '``'\"}) for i in range (len(fuentes_minusculas))]\n",
    "fuentes_minusc_simbol[0][0:600]"
   ]
  },
  {
   "cell_type": "markdown",
   "id": "a3249761-5454-4878-947d-c66d7ed2688e",
   "metadata": {},
   "source": [
    "# 3.3 Tokenizamos cada texto de cada folder: sospechosos y fuentes"
   ]
  },
  {
   "cell_type": "code",
   "execution_count": 9,
   "id": "da26b766-c7dd-498c-b3df-953d0ba75cc8",
   "metadata": {},
   "outputs": [
    {
     "name": "stdout",
     "output_type": "stream",
     "text": [
      "['washington', 'ap', 'robert', 'rubin', 'spent', 'much', 'of', 'his', 'life', 'speculating', 'what', 'the', 'stock', 'market', 'would', 'do', 'he', 'was', 'good', 'at', 'it', 'and', 'made', '100', 'million', 'when', 'he', 'came', 'to', 'washington', 'rubin', 'did', 'essentially', 'the', 'same', 'thing', 'speculating', 'that', 'if', 'president', 'clinton', 'would', 'balance', 'the', 'budget', 'he', 'would', 'be', 'rewarded', 'with', 'a', 'booming', 'economy', 'to', 'the', 'surprise', 'of', 'many', 'that', 'argument']\n"
     ]
    }
   ],
   "source": [
    "# sospechosos\n",
    "sospechosos_tokens = []\n",
    "for lista in sospechosos_minusc_simbol:\n",
    "    tokenized_lista = nltk.word_tokenize(lista)\n",
    "    sospechosos_tokens.append(tokenized_lista)\n",
    "\n",
    "print(sospechosos_tokens[0][:60])\n"
   ]
  },
  {
   "cell_type": "code",
   "execution_count": 10,
   "id": "6c5995d0-fdcb-4f41-8826-08e9dea124cd",
   "metadata": {},
   "outputs": [
    {
     "name": "stdout",
     "output_type": "stream",
     "text": [
      "['while', 'the', 'commission', 'stopped', 'short', 'of', 'blaming', 'chief', 'gates', 'for', 'these', 'problems', 'it', 'said', 'that', 'no', 'chief', 'should', 'serve', 'more', 'than', 'two', 'consecutive', 'five', 'year', 'terms', 'and', 'that', 'mr', 'gates', 'having', 'served', '13', 'years', 'should', 'therefore', 'turn', 'in', 'his', 'badge', 'following', 'a', 'transition', 'period', 'but', 'the', 'chief', 'who', 'has', 'remained', 'steadfast', 'through', 'repeated', 'calls', 'from', 'community', 'leaders', 'for', 'his', 'ouster']\n"
     ]
    }
   ],
   "source": [
    "# fuentes\n",
    "fuentes_tokens = []\n",
    "for lista in fuentes_minusc_simbol:\n",
    "    tokenized_lista = nltk.word_tokenize(lista)\n",
    "    fuentes_tokens.append(tokenized_lista)\n",
    "\n",
    "print(fuentes_tokens[0][:60])"
   ]
  },
  {
   "cell_type": "markdown",
   "id": "3269635d-ab08-495a-a003-be1e959f369c",
   "metadata": {},
   "source": [
    "# 3.4 Controlamos las ***stop words***"
   ]
  },
  {
   "cell_type": "code",
   "execution_count": 11,
   "id": "c706ce10-061c-49e5-945f-82895eda6868",
   "metadata": {},
   "outputs": [
    {
     "data": {
      "text/plain": [
       "nltk.corpus.reader.wordlist.WordListCorpusReader"
      ]
     },
     "execution_count": 11,
     "metadata": {},
     "output_type": "execute_result"
    }
   ],
   "source": [
    "# Definiendo las stops words\n",
    "\n",
    "from nltk.corpus import stopwords\n",
    "stopwords_control = stopwords.words('english')\n",
    "type(stopwords) # list"
   ]
  },
  {
   "cell_type": "code",
   "execution_count": 12,
   "id": "4f2906d1-c3ca-4413-9e77-ec99a5e3b912",
   "metadata": {},
   "outputs": [],
   "source": [
    "stop_words = set(stopwords.words('english'))\n",
    "\n",
    "def remover_soptwords(documentos):\n",
    "    documentos_finales = []\n",
    "    for doc in documentos:\n",
    "        documentos_limpios = [i for i in doc if not i in stop_words]\n",
    "        documentos_finales.append(documentos_limpios)\n",
    "    return documentos_finales\n"
   ]
  },
  {
   "cell_type": "code",
   "execution_count": 13,
   "id": "5892b89b-4e05-439e-9be7-271d6c5a251a",
   "metadata": {},
   "outputs": [
    {
     "name": "stdout",
     "output_type": "stream",
     "text": [
      "['washington', 'ap', 'robert', 'rubin', 'spent', 'much', 'life', 'speculating', 'stock', 'market', 'would', 'good', 'made', '100', 'million', 'came', 'washington', 'rubin', 'essentially', 'thing', 'speculating', 'president', 'clinton', 'would', 'balance', 'budget', 'would', 'rewarded', 'booming', 'economy', 'surprise', 'many', 'argument', 'caught', 'clinton', 'ear', 'six', 'years', 'since', 'first', 'top', 'economic', 'adviser', 'since', '1995', 'treasury', 'secretary', 'rubin', 'gained', 'much', 'credit', 'close', 'partnership', 'federal', 'reserve', 'chairman', 'alan', 'greenspan', 'policies', 'spending']\n"
     ]
    }
   ],
   "source": [
    "sospechosos_normalizados = remover_soptwords(sospechosos_tokens)\n",
    "print(sospechosos_normalizados[0][:60])"
   ]
  },
  {
   "cell_type": "code",
   "execution_count": 14,
   "id": "d4dbfe3d-f6b1-4ea4-994a-e0c3bffc6f37",
   "metadata": {},
   "outputs": [
    {
     "name": "stdout",
     "output_type": "stream",
     "text": [
      "['commission', 'stopped', 'short', 'blaming', 'chief', 'gates', 'problems', 'said', 'chief', 'serve', 'two', 'consecutive', 'five', 'year', 'terms', 'mr', 'gates', 'served', '13', 'years', 'therefore', 'turn', 'badge', 'following', 'transition', 'period', 'chief', 'remained', 'steadfast', 'repeated', 'calls', 'community', 'leaders', 'ouster', 'said', 'later', '``', 'expect', 'run', 'away', \"''\", 'job', 'nearly', 'one', 'quarter', '650', 'officers', 'responding', 'commission', 'survey', 'agreed', '``', 'racial', 'bias', 'part', 'officers', 'toward', 'minority', 'citizens', 'currently']\n"
     ]
    }
   ],
   "source": [
    "fuentes_normalizados = remover_soptwords(fuentes_tokens)\n",
    "print(fuentes_normalizados[0][:60])"
   ]
  },
  {
   "cell_type": "markdown",
   "id": "21cc3f0d-8e72-41ad-b3a0-cc8ee5779bf9",
   "metadata": {},
   "source": [
    "# 3.5 Se recomienda usar el ***stemmer*** de NLTK para facilidad, usar Porter (inglés) para reducir el vocabulario común."
   ]
  },
  {
   "cell_type": "code",
   "execution_count": 15,
   "id": "2e221673-7f1c-422f-beb6-3af4e355e98b",
   "metadata": {},
   "outputs": [],
   "source": [
    "from nltk.stem.porter import *\n",
    "stemmer = PorterStemmer()"
   ]
  },
  {
   "cell_type": "code",
   "execution_count": 16,
   "id": "c19c4cdf-fea9-4e01-ba71-6d3d2a3e33b3",
   "metadata": {},
   "outputs": [
    {
     "name": "stdout",
     "output_type": "stream",
     "text": [
      "['washington', 'ap', 'robert', 'rubin', 'spent', 'much', 'life', 'specul', 'stock', 'market', 'would', 'good', 'made', '100', 'million', 'came', 'washington', 'rubin', 'essenti', 'thing', 'specul', 'presid', 'clinton', 'would', 'balanc', 'budget', 'would', 'reward', 'boom', 'economi', 'surpris', 'mani', 'argument', 'caught', 'clinton', 'ear', 'six', 'year', 'sinc', 'first', 'top', 'econom', 'advis', 'sinc', '1995', 'treasuri', 'secretari', 'rubin', 'gain', 'much', 'credit', 'close', 'partnership', 'feder', 'reserv', 'chairman', 'alan', 'greenspan', 'polici', 'spend']\n"
     ]
    }
   ],
   "source": [
    "#stemm para sospechosos normalizado\n",
    "sospechosos_normalizados_stemm = [[stemmer.stem(word) for word in texto] for texto in sospechosos_normalizados]\n",
    "\n",
    "print(sospechosos_normalizados_stemm[0][:60])"
   ]
  },
  {
   "cell_type": "code",
   "execution_count": 17,
   "id": "8754a0ae-1eb1-4bdf-a3e0-a3ee72e03ebe",
   "metadata": {},
   "outputs": [
    {
     "name": "stdout",
     "output_type": "stream",
     "text": [
      "['commiss', 'stop', 'short', 'blame', 'chief', 'gate', 'problem', 'said', 'chief', 'serv', 'two', 'consecut', 'five', 'year', 'term', 'mr', 'gate', 'serv', '13', 'year', 'therefor', 'turn', 'badg', 'follow', 'transit', 'period', 'chief', 'remain', 'steadfast', 'repeat', 'call', 'commun', 'leader', 'ouster', 'said', 'later', '``', 'expect', 'run', 'away', \"''\", 'job', 'nearli', 'one', 'quarter', '650', 'offic', 'respond', 'commiss', 'survey', 'agre', '``', 'racial', 'bia', 'part', 'offic', 'toward', 'minor', 'citizen', 'current']\n"
     ]
    }
   ],
   "source": [
    "fuentes_normalizados_stemm = [[stemmer.stem(word) for word in texto] for texto in fuentes_normalizados]\n",
    "\n",
    "print(fuentes_normalizados_stemm[0][:60])"
   ]
  },
  {
   "cell_type": "code",
   "execution_count": 18,
   "id": "d7505e1c-774c-47c9-b70b-d503c4d6b215",
   "metadata": {},
   "outputs": [
    {
     "name": "stdout",
     "output_type": "stream",
     "text": [
      "['studi', 'found', 'u', 'death', 'toll', 'major', 'hurrican', 'could', 'far', 'wors', 'previous', 'predict', 'head', 'nation', 'hurrican', 'center', 'said', 'tuesday', 'mark', 'open', '1988', 'atlant', 'storm', 'season', 'recent', 'complet', 'hurrican', 'coastal', 'flood', 'model', 'atlant', 'gulf', 'coast', 'show', 'mani', 'peopl', 'earlier', 'thought', 'must', 'evacu', 'certain', 'condit', 'said', 'center', 'director', 'bob', 'sheet', 'forti', 'three', 'million', 'peopl', 'live', '175', 'coastal', 'counti', 'main', 'texa', 'evacu', 'crowd', 'urban']\n"
     ]
    }
   ],
   "source": [
    "print(fuentes_normalizados_stemm[236][:60])"
   ]
  },
  {
   "cell_type": "markdown",
   "id": "36feed64-3184-4a8d-8347-3f60e7b7c157",
   "metadata": {},
   "source": [
    "<section style=\"background-color: powderblue;\">\n",
    "<br>\n",
    "\n",
    "# 4. Similaridad de coseno y el peso denominado Term Frequency-Inverse Documen Frequency (TF-IDF).\n",
    "\n",
    "\n",
    "$$\\text{cosine.similarity}(A, B) = \\frac{A \\cdot B}{\\lVert A \\rVert \\lVert B \\rVert} = \\frac{{\\lVert A \\rVert \\lVert B \\rVert}*Cos(\\Theta)}{\\lVert A \\rVert \\lVert B \\rVert}$$\n",
    "\n",
    "Donde ${A \\cdot B}$ es el producto punto de los vectores que representan dos documentos y ${\\lVert A \\rVert \\lVert B \\rVert}$ representan las magnitudes de ambos documentos A y B.\n",
    "\n",
    "$$w_{ij} = \\text{tf}_{ij} \\cdot \\log\\left(\\frac{N}{\\text{df}_i}\\right)$$\n",
    "\n",
    "Donde, \n",
    "$w_{ij}$ es el peso del término $i$ en el documento $j$;\n",
    "${tf}_{ij}$ es la frecuencia del término $i$ en el documento $j$; $N$ es el número total de documentos en la colección, y\n",
    "${df_i}$ es el número de documentos que contiene el término $i$.\n",
    "\n",
    "<br>\n",
    "</section>"
   ]
  },
  {
   "cell_type": "code",
   "execution_count": 23,
   "id": "b39ec78c-31ca-4de0-81cf-879713c8ff71",
   "metadata": {},
   "outputs": [
    {
     "name": "stderr",
     "output_type": "stream",
     "text": [
      "[nltk_data] Downloading package stopwords to\n",
      "[nltk_data]     C:\\Users\\rodri\\AppData\\Roaming\\nltk_data...\n",
      "[nltk_data]   Package stopwords is already up-to-date!\n"
     ]
    }
   ],
   "source": [
    "# Se requiere definir una función de tokenización para aplicar en la función TfidVectorizer en términos de la documentación en sklearn\n",
    "\n",
    "import nltk\n",
    "from nltk.corpus import stopwords\n",
    "nltk.download('stopwords')\n",
    "\n",
    "stop_words = set(stopwords.words('english'))\n",
    "\n",
    "def custom_tokenizer(text):\n",
    "    # Tokenizar usando NLTK\n",
    "    tokens = nltk.word_tokenize(text)\n",
    "    # quitar stop words\n",
    "    filtered_tokens = [token for token in tokens if token.lower() not in stop_words]\n",
    "    return filtered_tokens\n"
   ]
  },
  {
   "cell_type": "code",
   "execution_count": 22,
   "id": "7241a045-b384-483c-9e97-de7c31ff6d54",
   "metadata": {},
   "outputs": [
    {
     "name": "stderr",
     "output_type": "stream",
     "text": [
      "C:\\Users\\rodri\\AppData\\Roaming\\jupyterlab-desktop\\jlab_server\\lib\\site-packages\\sklearn\\feature_extraction\\text.py:528: UserWarning: The parameter 'token_pattern' will not be used since 'tokenizer' is not None'\n",
      "  warnings.warn(\n"
     ]
    }
   ],
   "source": [
    "# Primero convertimos nuestra colección de documentos en vectores.\n",
    "\n",
    "from sklearn.feature_extraction.text import TfidfVectorizer\n",
    "\n",
    "source_docs = fuentes_minusc_simbol\n",
    "suspicious_docs = sospechosos_minusc_simbol\n",
    "\n",
    "all_docs = []\n",
    "all_docs.extend(source_docs)\n",
    "all_docs.extend(suspicious_docs)\n",
    "tfidf_vec = TfidfVectorizer(strip_accents='unicode', stop_words='english', tokenizer=custom_tokenizer, analyzer='word')\n",
    "vectors = tfidf_vec.fit_transform(all_docs) # TF-IDF Matriz de término documento"
   ]
  },
  {
   "cell_type": "code",
   "execution_count": 24,
   "id": "d782719d-1532-4700-9703-2ad1aab6749e",
   "metadata": {},
   "outputs": [
    {
     "data": {
      "text/html": [
       "<div>\n",
       "<style scoped>\n",
       "    .dataframe tbody tr th:only-of-type {\n",
       "        vertical-align: middle;\n",
       "    }\n",
       "\n",
       "    .dataframe tbody tr th {\n",
       "        vertical-align: top;\n",
       "    }\n",
       "\n",
       "    .dataframe thead th {\n",
       "        text-align: right;\n",
       "    }\n",
       "</style>\n",
       "<table border=\"1\" class=\"dataframe\">\n",
       "  <thead>\n",
       "    <tr style=\"text-align: right;\">\n",
       "      <th></th>\n",
       "      <th>0</th>\n",
       "      <th>00</th>\n",
       "      <th>000</th>\n",
       "      <th>002</th>\n",
       "      <th>00202</th>\n",
       "      <th>008</th>\n",
       "      <th>01</th>\n",
       "      <th>0107z</th>\n",
       "      <th>011</th>\n",
       "      <th>0133</th>\n",
       "      <th>...</th>\n",
       "      <th>zoom</th>\n",
       "      <th>zooming</th>\n",
       "      <th>zoster</th>\n",
       "      <th>zouk</th>\n",
       "      <th>zucker</th>\n",
       "      <th>zuckerman</th>\n",
       "      <th>zueva</th>\n",
       "      <th>zuma</th>\n",
       "      <th>zurich</th>\n",
       "      <th>zyuganov</th>\n",
       "    </tr>\n",
       "  </thead>\n",
       "  <tbody>\n",
       "    <tr>\n",
       "      <th>0</th>\n",
       "      <td>0.000000</td>\n",
       "      <td>0.0</td>\n",
       "      <td>0.010670</td>\n",
       "      <td>0.0</td>\n",
       "      <td>0.0</td>\n",
       "      <td>0.0</td>\n",
       "      <td>0.0</td>\n",
       "      <td>0.0</td>\n",
       "      <td>0.0</td>\n",
       "      <td>0.0</td>\n",
       "      <td>...</td>\n",
       "      <td>0.0</td>\n",
       "      <td>0.0</td>\n",
       "      <td>0.0</td>\n",
       "      <td>0.0</td>\n",
       "      <td>0.0</td>\n",
       "      <td>0.0</td>\n",
       "      <td>0.00000</td>\n",
       "      <td>0.0</td>\n",
       "      <td>0.0</td>\n",
       "      <td>0.0</td>\n",
       "    </tr>\n",
       "    <tr>\n",
       "      <th>1</th>\n",
       "      <td>0.049329</td>\n",
       "      <td>0.0</td>\n",
       "      <td>0.080514</td>\n",
       "      <td>0.0</td>\n",
       "      <td>0.0</td>\n",
       "      <td>0.0</td>\n",
       "      <td>0.0</td>\n",
       "      <td>0.0</td>\n",
       "      <td>0.0</td>\n",
       "      <td>0.0</td>\n",
       "      <td>...</td>\n",
       "      <td>0.0</td>\n",
       "      <td>0.0</td>\n",
       "      <td>0.0</td>\n",
       "      <td>0.0</td>\n",
       "      <td>0.0</td>\n",
       "      <td>0.0</td>\n",
       "      <td>0.00000</td>\n",
       "      <td>0.0</td>\n",
       "      <td>0.0</td>\n",
       "      <td>0.0</td>\n",
       "    </tr>\n",
       "    <tr>\n",
       "      <th>2</th>\n",
       "      <td>0.000000</td>\n",
       "      <td>0.0</td>\n",
       "      <td>0.000000</td>\n",
       "      <td>0.0</td>\n",
       "      <td>0.0</td>\n",
       "      <td>0.0</td>\n",
       "      <td>0.0</td>\n",
       "      <td>0.0</td>\n",
       "      <td>0.0</td>\n",
       "      <td>0.0</td>\n",
       "      <td>...</td>\n",
       "      <td>0.0</td>\n",
       "      <td>0.0</td>\n",
       "      <td>0.0</td>\n",
       "      <td>0.0</td>\n",
       "      <td>0.0</td>\n",
       "      <td>0.0</td>\n",
       "      <td>0.05309</td>\n",
       "      <td>0.0</td>\n",
       "      <td>0.0</td>\n",
       "      <td>0.0</td>\n",
       "    </tr>\n",
       "    <tr>\n",
       "      <th>3</th>\n",
       "      <td>0.000000</td>\n",
       "      <td>0.0</td>\n",
       "      <td>0.057754</td>\n",
       "      <td>0.0</td>\n",
       "      <td>0.0</td>\n",
       "      <td>0.0</td>\n",
       "      <td>0.0</td>\n",
       "      <td>0.0</td>\n",
       "      <td>0.0</td>\n",
       "      <td>0.0</td>\n",
       "      <td>...</td>\n",
       "      <td>0.0</td>\n",
       "      <td>0.0</td>\n",
       "      <td>0.0</td>\n",
       "      <td>0.0</td>\n",
       "      <td>0.0</td>\n",
       "      <td>0.0</td>\n",
       "      <td>0.00000</td>\n",
       "      <td>0.0</td>\n",
       "      <td>0.0</td>\n",
       "      <td>0.0</td>\n",
       "    </tr>\n",
       "    <tr>\n",
       "      <th>4</th>\n",
       "      <td>0.000000</td>\n",
       "      <td>0.0</td>\n",
       "      <td>0.000000</td>\n",
       "      <td>0.0</td>\n",
       "      <td>0.0</td>\n",
       "      <td>0.0</td>\n",
       "      <td>0.0</td>\n",
       "      <td>0.0</td>\n",
       "      <td>0.0</td>\n",
       "      <td>0.0</td>\n",
       "      <td>...</td>\n",
       "      <td>0.0</td>\n",
       "      <td>0.0</td>\n",
       "      <td>0.0</td>\n",
       "      <td>0.0</td>\n",
       "      <td>0.0</td>\n",
       "      <td>0.0</td>\n",
       "      <td>0.00000</td>\n",
       "      <td>0.0</td>\n",
       "      <td>0.0</td>\n",
       "      <td>0.0</td>\n",
       "    </tr>\n",
       "  </tbody>\n",
       "</table>\n",
       "<p>5 rows × 25623 columns</p>\n",
       "</div>"
      ],
      "text/plain": [
       "          0   00       000  002  00202  008   01  0107z  011  0133  ...  zoom  \\\n",
       "0  0.000000  0.0  0.010670  0.0    0.0  0.0  0.0    0.0  0.0   0.0  ...   0.0   \n",
       "1  0.049329  0.0  0.080514  0.0    0.0  0.0  0.0    0.0  0.0   0.0  ...   0.0   \n",
       "2  0.000000  0.0  0.000000  0.0    0.0  0.0  0.0    0.0  0.0   0.0  ...   0.0   \n",
       "3  0.000000  0.0  0.057754  0.0    0.0  0.0  0.0    0.0  0.0   0.0  ...   0.0   \n",
       "4  0.000000  0.0  0.000000  0.0    0.0  0.0  0.0    0.0  0.0   0.0  ...   0.0   \n",
       "\n",
       "   zooming  zoster  zouk  zucker  zuckerman    zueva  zuma  zurich  zyuganov  \n",
       "0      0.0     0.0   0.0     0.0        0.0  0.00000   0.0     0.0       0.0  \n",
       "1      0.0     0.0   0.0     0.0        0.0  0.00000   0.0     0.0       0.0  \n",
       "2      0.0     0.0   0.0     0.0        0.0  0.05309   0.0     0.0       0.0  \n",
       "3      0.0     0.0   0.0     0.0        0.0  0.00000   0.0     0.0       0.0  \n",
       "4      0.0     0.0   0.0     0.0        0.0  0.00000   0.0     0.0       0.0  \n",
       "\n",
       "[5 rows x 25623 columns]"
      ]
     },
     "execution_count": 24,
     "metadata": {},
     "output_type": "execute_result"
    }
   ],
   "source": [
    "# Obtenemos los nombres de cada palabra en el MODELO VECTORIAL\n",
    "nombres = tfidf_vec.get_feature_names_out() # VOCABULARIO ÚNICO\n",
    "\n",
    "# Convertir la matriz dispersa en una matriz de densidad y entonces en un df pandas para visualizar el espacio vectorial.\n",
    "# donde se puede calcular un vocavulario único para todos los documentos\n",
    "densidad = vectors.todense()\n",
    "df = pd.DataFrame(densidad, columns=nombres)\n",
    "del df[\"''\"]\n",
    "df.head()"
   ]
  },
  {
   "cell_type": "code",
   "execution_count": 26,
   "id": "cf3ba188-2c73-4888-9313-936c9ab8ca6e",
   "metadata": {},
   "outputs": [
    {
     "name": "stdout",
     "output_type": "stream",
     "text": [
      "Documento 1\n",
      "t: commission w: 0.3228681352235107\n",
      "t: stopped w: 0.022644574966238742\n",
      "t: short w: 0.020991943490625213\n",
      "t: blaming w: 0.04225636189425465\n",
      "t: chief w: 0.24722032821082557\n",
      "t: gates w: 0.26120494598906135\n",
      "t: problems w: 0.04348910372710896\n",
      "t: said w: 0.08439431839618648\n",
      "t: chief w: 0.24722032821082557\n",
      "t: serve w: 0.04415057725086197\n",
      "t: consecutive w: 0.03284570574538205\n",
      "t: year w: 0.007537564947200062\n",
      "t: terms w: 0.019196278547875957\n",
      "t: mr w: 0.047951550583982566\n",
      "t: gates w: 0.26120494598906135\n",
      "t: served w: 0.02087977144846863\n",
      "t: 13 w: 0.018694051291367034\n",
      "t: years w: 0.02403358934350335\n",
      "t: turn w: 0.01628507296209248\n",
      "t: badge w: 0.03763810975030034\n",
      "t: following w: 0.019744643726497372\n",
      "t: transition w: 0.060442749940974004\n",
      "t: period w: 0.04126966221851561\n",
      "t: chief w: 0.24722032821082557\n",
      "t: remained w: 0.024119066681034328\n",
      "t: steadfast w: 0.048818357381686495\n",
      "t: repeated w: 0.024167042727702828\n",
      "t: calls w: 0.01755707119360248\n",
      "t: community w: 0.10883129135635079\n",
      "t: leaders w: 0.03069194334652929\n",
      "t: ouster w: 0.048818357381686495\n",
      "t: said w: 0.08439431839618648\n",
      "t: later w: 0.015356981788267176\n",
      "t: expect w: 0.019475140011897246\n",
      "t: run w: 0.014401706883453705\n",
      "t: job w: 0.03206602169657488\n",
      "t: nearly w: 0.014467811747723571\n",
      "t: quarter w: 0.02488261358073998\n",
      "t: 650 w: 0.03449576321289816\n",
      "t: officers w: 0.2944630369555823\n",
      "t: responding w: 0.02649331020929313\n",
      "t: commission w: 0.3228681352235107\n",
      "t: survey w: 0.020297870560844197\n",
      "t: agreed w: 0.018990293111437646\n",
      "t: bias w: 0.035694366406822796\n",
      "t: officers w: 0.2944630369555823\n",
      "t: minority w: 0.052705525769608845\n",
      "t: citizens w: 0.10701007634101797\n",
      "t: currently w: 0.022075288625430987\n",
      "t: exists w: 0.026352762884804422\n",
      "t: contributes w: 0.03349795155447795\n",
      "t: negative w: 0.022911781820323118\n",
      "t: interaction w: 0.02983588730678747\n",
      "t: police w: 0.2660603564263531\n",
      "t: community w: 0.10883129135635079\n",
      "t: cases w: 0.031918841542500125\n",
      "t: lead w: 0.017986254727723142\n",
      "t: use w: 0.011261068133253326\n",
      "t: excessive w: 0.08842133192326489\n",
      "t: force w: 0.0891616032558283\n"
     ]
    },
    {
     "ename": "KeyboardInterrupt",
     "evalue": "",
     "output_type": "error",
     "traceback": [
      "\u001b[1;31m---------------------------------------------------------------------------\u001b[0m",
      "\u001b[1;31mKeyboardInterrupt\u001b[0m                         Traceback (most recent call last)",
      "Cell \u001b[1;32mIn[26], line 11\u001b[0m\n\u001b[0;32m      9\u001b[0m \u001b[38;5;28mprint\u001b[39m(\u001b[38;5;124m\"\u001b[39m\u001b[38;5;124mDocumento\u001b[39m\u001b[38;5;124m\"\u001b[39m, k\u001b[38;5;241m+\u001b[39m\u001b[38;5;241m1\u001b[39m)\n\u001b[0;32m     10\u001b[0m \u001b[38;5;28;01mfor\u001b[39;00m t \u001b[38;5;129;01min\u001b[39;00m d\u001b[38;5;241m.\u001b[39mlower()\u001b[38;5;241m.\u001b[39mreplace(\u001b[38;5;124m\"\u001b[39m\u001b[38;5;124m,\u001b[39m\u001b[38;5;124m\"\u001b[39m, \u001b[38;5;124m\"\u001b[39m\u001b[38;5;124m\"\u001b[39m)\u001b[38;5;241m.\u001b[39msplit():\n\u001b[1;32m---> 11\u001b[0m     feature_names \u001b[38;5;241m=\u001b[39m \u001b[43mtfidf_vec\u001b[49m\u001b[38;5;241;43m.\u001b[39;49m\u001b[43mget_feature_names_out\u001b[49m\u001b[43m(\u001b[49m\u001b[43m)\u001b[49m\u001b[38;5;241m.\u001b[39mtolist()\n\u001b[0;32m     12\u001b[0m     \u001b[38;5;28;01mif\u001b[39;00m t \u001b[38;5;129;01min\u001b[39;00m feature_names:\n\u001b[0;32m     13\u001b[0m         index \u001b[38;5;241m=\u001b[39m feature_names\u001b[38;5;241m.\u001b[39mindex(t)\n",
      "File \u001b[1;32m~\\AppData\\Roaming\\jupyterlab-desktop\\jlab_server\\lib\\site-packages\\sklearn\\feature_extraction\\text.py:1486\u001b[0m, in \u001b[0;36mCountVectorizer.get_feature_names_out\u001b[1;34m(self, input_features)\u001b[0m\n\u001b[0;32m   1472\u001b[0m \u001b[38;5;124;03m\"\"\"Get output feature names for transformation.\u001b[39;00m\n\u001b[0;32m   1473\u001b[0m \n\u001b[0;32m   1474\u001b[0m \u001b[38;5;124;03mParameters\u001b[39;00m\n\u001b[1;32m   (...)\u001b[0m\n\u001b[0;32m   1482\u001b[0m \u001b[38;5;124;03m    Transformed feature names.\u001b[39;00m\n\u001b[0;32m   1483\u001b[0m \u001b[38;5;124;03m\"\"\"\u001b[39;00m\n\u001b[0;32m   1484\u001b[0m \u001b[38;5;28mself\u001b[39m\u001b[38;5;241m.\u001b[39m_check_vocabulary()\n\u001b[0;32m   1485\u001b[0m \u001b[38;5;28;01mreturn\u001b[39;00m np\u001b[38;5;241m.\u001b[39masarray(\n\u001b[1;32m-> 1486\u001b[0m     [t \u001b[38;5;28;01mfor\u001b[39;00m t, i \u001b[38;5;129;01min\u001b[39;00m \u001b[38;5;28msorted\u001b[39m(\u001b[38;5;28mself\u001b[39m\u001b[38;5;241m.\u001b[39mvocabulary_\u001b[38;5;241m.\u001b[39mitems(), key\u001b[38;5;241m=\u001b[39mitemgetter(\u001b[38;5;241m1\u001b[39m))],\n\u001b[0;32m   1487\u001b[0m     dtype\u001b[38;5;241m=\u001b[39m\u001b[38;5;28mobject\u001b[39m,\n\u001b[0;32m   1488\u001b[0m )\n",
      "File \u001b[1;32m~\\AppData\\Roaming\\jupyterlab-desktop\\jlab_server\\lib\\site-packages\\sklearn\\feature_extraction\\text.py:1486\u001b[0m, in \u001b[0;36m<listcomp>\u001b[1;34m(.0)\u001b[0m\n\u001b[0;32m   1472\u001b[0m \u001b[38;5;124;03m\"\"\"Get output feature names for transformation.\u001b[39;00m\n\u001b[0;32m   1473\u001b[0m \n\u001b[0;32m   1474\u001b[0m \u001b[38;5;124;03mParameters\u001b[39;00m\n\u001b[1;32m   (...)\u001b[0m\n\u001b[0;32m   1482\u001b[0m \u001b[38;5;124;03m    Transformed feature names.\u001b[39;00m\n\u001b[0;32m   1483\u001b[0m \u001b[38;5;124;03m\"\"\"\u001b[39;00m\n\u001b[0;32m   1484\u001b[0m \u001b[38;5;28mself\u001b[39m\u001b[38;5;241m.\u001b[39m_check_vocabulary()\n\u001b[0;32m   1485\u001b[0m \u001b[38;5;28;01mreturn\u001b[39;00m np\u001b[38;5;241m.\u001b[39masarray(\n\u001b[1;32m-> 1486\u001b[0m     [t \u001b[38;5;28;01mfor\u001b[39;00m t, i \u001b[38;5;129;01min\u001b[39;00m \u001b[38;5;28msorted\u001b[39m(\u001b[38;5;28mself\u001b[39m\u001b[38;5;241m.\u001b[39mvocabulary_\u001b[38;5;241m.\u001b[39mitems(), key\u001b[38;5;241m=\u001b[39mitemgetter(\u001b[38;5;241m1\u001b[39m))],\n\u001b[0;32m   1487\u001b[0m     dtype\u001b[38;5;241m=\u001b[39m\u001b[38;5;28mobject\u001b[39m,\n\u001b[0;32m   1488\u001b[0m )\n",
      "\u001b[1;31mKeyboardInterrupt\u001b[0m: "
     ]
    }
   ],
   "source": [
    "# for k, d in enumerate(all_docs):\n",
    "#     print('doc', k)\n",
    "#     for t in d.lower().replace(\",\", \"\").split():\n",
    "#         if t in tfidf_vec.get_feature_names_out():\n",
    "#             print(\"t;\", t, \"w:\", vectors[k, tfidf_vec.get_feature_names_out().index(t)])\n",
    "\n",
    "            \n",
    "for k, d in enumerate(all_docs):\n",
    "    print(\"Documento\", k+1)\n",
    "    for t in d.lower().replace(\",\", \"\").split():\n",
    "        feature_names = tfidf_vec.get_feature_names_out().tolist()\n",
    "        if t in feature_names:\n",
    "            index = feature_names.index(t)\n",
    "            print(\"t:\", t, \"w:\", vectors[k, index])\n",
    "    print(\"-----\")\n",
    "\n",
    "# obteniendo el pesado para cada uno de los tokens, ya podemos aplicar la similaridad de coseno."
   ]
  },
  {
   "cell_type": "code",
   "execution_count": 27,
   "id": "3f7d8fd6-90c4-4687-b6bf-b7ca8f4085eb",
   "metadata": {},
   "outputs": [
    {
     "name": "stdout",
     "output_type": "stream",
     "text": [
      "<class 'numpy.ndarray'>\n"
     ]
    },
    {
     "data": {
      "text/plain": [
       "(25624,)"
      ]
     },
     "execution_count": 27,
     "metadata": {},
     "output_type": "execute_result"
    }
   ],
   "source": [
    "v =  vectors[0].toarray()[0]\n",
    "print(type(v))\n",
    "v.shape"
   ]
  },
  {
   "cell_type": "code",
   "execution_count": 31,
   "id": "827c0c00-38c8-4446-829d-0032b26c5642",
   "metadata": {},
   "outputs": [
    {
     "name": "stdout",
     "output_type": "stream",
     "text": [
      "<class 'numpy.ndarray'>\n"
     ]
    },
    {
     "data": {
      "text/plain": [
       "(2607, 25624)"
      ]
     },
     "execution_count": 31,
     "metadata": {},
     "output_type": "execute_result"
    }
   ],
   "source": [
    "# Nos indica que la matriz o espacio vectorial tiene una dimensión de 2607 X 25624. 2607 documentos que coincide con el total de documentos que tenemos de sumar los 2370 documentos sospechosos y los 237 documentos fuente. \n",
    "# De igual forma, el lenguaje común de todos estos documentos implica 25,624 componentes o tokens. Cada vector renglón de la matriz representa la vectorización de cada uno de los documentos que deseamos comparar.\n",
    "v =  vectors.toarray()\n",
    "print(type(v))\n",
    "v.shape"
   ]
  },
  {
   "cell_type": "code",
   "execution_count": 32,
   "id": "e663f03d-8353-4887-aeef-67f7c135b664",
   "metadata": {},
   "outputs": [
    {
     "name": "stdout",
     "output_type": "stream",
     "text": [
      "[0. 0. 0. ... 0. 0. 0.]\n"
     ]
    }
   ],
   "source": [
    "v = tfidf_vec.transform([suspicious_docs[0]])\n",
    "v = v.toarray()[0]\n",
    "print(v * v) # multiplica cada componente del vector por sí misma."
   ]
  },
  {
   "cell_type": "code",
   "execution_count": 34,
   "id": "3a4e557a-bf5b-4e15-8090-8eddcd337275",
   "metadata": {},
   "outputs": [],
   "source": [
    "from sklearn.metrics.pairwise import cosine_similarity\n",
    "\n",
    "# Assuming vectors is the numpy array with TF-IDF weights\n",
    "# for all documents (suspicious and sources)\n",
    "num_fuentes = 237\n",
    "suspicious_vectors = vectors[:num_fuentes]\n",
    "source_vectors = vectors[num_fuentes:]\n",
    "\n",
    "# Calculate cosine similarity between each suspicious document and all source documents\n",
    "for i, suspicious_vec in enumerate(suspicious_vectors):\n",
    "    similarities = cosine_similarity(suspicious_vec.reshape(1, -1), source_vectors)\n",
    "    # similarities is a 2D array with shape (1, num_sources)\n",
    "    # containing cosine similarity scores between the i-th suspicious document and all source documents\n",
    "    # You can print or use these scores as per your requirement"
   ]
  },
  {
   "cell_type": "code",
   "execution_count": 35,
   "id": "cc89a076-b4a1-4e26-af83-d331076a95c3",
   "metadata": {},
   "outputs": [
    {
     "name": "stdout",
     "output_type": "stream",
     "text": [
      "(237, 25624)\n",
      "(2370, 25624)\n"
     ]
    }
   ],
   "source": [
    "print(suspicious_vectors.shape)\n",
    "print(source_vectors.shape)"
   ]
  },
  {
   "cell_type": "code",
   "execution_count": 36,
   "id": "e02cb238-5c15-42f2-9bca-b0290e6159b3",
   "metadata": {},
   "outputs": [
    {
     "data": {
      "text/plain": [
       "2370"
      ]
     },
     "execution_count": 36,
     "metadata": {},
     "output_type": "execute_result"
    }
   ],
   "source": [
    "similaridades_coseno = similarities.tolist()\n",
    "len(similaridades_coseno[0])"
   ]
  },
  {
   "cell_type": "code",
   "execution_count": 37,
   "id": "5960d783-95ee-4af8-871c-d619c2966be1",
   "metadata": {},
   "outputs": [],
   "source": [
    "# Creamos la lista con los nombres de los 2370 archivos sospechosos\n",
    "directorio = \"./suspicious-documents/\"\n",
    "archivos_nombres = [f for f in os.listdir(directorio) if os.path.isfile(os.path.join(directorio, f))]"
   ]
  },
  {
   "cell_type": "markdown",
   "id": "c2b91010-1c95-4083-8ddc-29f89a916f1e",
   "metadata": {},
   "source": [
    "<section style=\"background-color: powderblue;\">\n",
    "<br>\n",
    "\n",
    "# 5. Cálculo de la similaridad de Jaccard y Dice a partir del espacio vectorial definido y para hacer más comparables los resultados.\n",
    "\n",
    "<br>\n",
    "</section>"
   ]
  },
  {
   "cell_type": "code",
   "execution_count": 38,
   "id": "db35ed99-e979-4c6f-8839-a59d8e821ac7",
   "metadata": {},
   "outputs": [],
   "source": [
    "from sklearn.metrics.pairwise import pairwise_distances\n",
    "from sklearn.exceptions import DataConversionWarning\n",
    "\n",
    "import warnings\n",
    "warnings.filterwarnings(\"ignore\", category=DataConversionWarning)\n",
    "\n",
    "# Assuming vectors is the numpy array with TF-IDF weights\n",
    "# for all documents (suspicious and sources)\n",
    "num_suspicious = 237\n",
    "suspicious_vectors = vectors[:num_suspicious].toarray() # convert to dense matrix\n",
    "source_vectors = vectors[num_suspicious:].toarray() # convert to dense matrix\n",
    "\n",
    "# Calculate Jaccard similarity between each suspicious document and all source documents\n",
    "for i, suspicious_vec in enumerate(suspicious_vectors):\n",
    "    similarities = 1 - pairwise_distances(suspicious_vec.reshape(1, -1), source_vectors, metric='jaccard')\n",
    "    # similarities is a 2D array with shape (1, num_sources)\n",
    "    # containing Jaccard similarity scores between the i-th suspicious document and all source documents\n",
    "    # You can print or use these scores as per your requirement\n",
    "\n"
   ]
  },
  {
   "cell_type": "code",
   "execution_count": 39,
   "id": "edc359b2-7d11-4b92-af9e-37ec15d4ebd8",
   "metadata": {},
   "outputs": [
    {
     "data": {
      "text/plain": [
       "2370"
      ]
     },
     "execution_count": 39,
     "metadata": {},
     "output_type": "execute_result"
    }
   ],
   "source": [
    "similaridad_jaccard = similarities.tolist()\n",
    "len(similaridad_jaccard[0])"
   ]
  },
  {
   "cell_type": "code",
   "execution_count": 40,
   "id": "124133cf-c0ba-420a-8587-0dd61f8847b0",
   "metadata": {},
   "outputs": [],
   "source": [
    "from sklearn.metrics.pairwise import pairwise_distances\n",
    "\n",
    "num_suspicious = 237\n",
    "suspicious_vectors = vectors[:num_suspicious].toarray() # convert to dense matrix\n",
    "source_vectors = vectors[num_suspicious:].toarray() # convert to dense matrix\n",
    "\n",
    "# Calculate Dice similarity between each suspicious document and all source documents\n",
    "for i, suspicious_vec in enumerate(suspicious_vectors):\n",
    "    similarities = 1 - pairwise_distances(suspicious_vec.reshape(1, -1), source_vectors, metric='dice')\n",
    "    # similarities is a 2D array with shape (1, num_sources)\n",
    "    # containing Dice similarity scores between the i-th suspicious document and all source documents\n",
    "    # You can print or use these scores as per your requirement\n"
   ]
  },
  {
   "cell_type": "code",
   "execution_count": 41,
   "id": "e166c945-1f0f-4290-8782-7b7b0b25857c",
   "metadata": {},
   "outputs": [
    {
     "data": {
      "text/plain": [
       "2370"
      ]
     },
     "execution_count": 41,
     "metadata": {},
     "output_type": "execute_result"
    }
   ],
   "source": [
    "similaridad_dice = similarities.tolist()\n",
    "len(similaridad_dice[0])"
   ]
  },
  {
   "cell_type": "markdown",
   "id": "f49a3b54-9d5d-4f19-80af-afd0aa0894a4",
   "metadata": {},
   "source": [
    "<section style=\"background-color: powderblue;\">\n",
    "<br>\n",
    "\n",
    "# 6. Los resultados en una tabla resumen\n",
    "\n",
    "<br>\n",
    "</section>"
   ]
  },
  {
   "cell_type": "code",
   "execution_count": 42,
   "id": "bfda7999-b35a-4c74-a116-7b2935ae19c8",
   "metadata": {},
   "outputs": [
    {
     "data": {
      "text/html": [
       "<div>\n",
       "<style scoped>\n",
       "    .dataframe tbody tr th:only-of-type {\n",
       "        vertical-align: middle;\n",
       "    }\n",
       "\n",
       "    .dataframe tbody tr th {\n",
       "        vertical-align: top;\n",
       "    }\n",
       "\n",
       "    .dataframe thead th {\n",
       "        text-align: right;\n",
       "    }\n",
       "</style>\n",
       "<table border=\"1\" class=\"dataframe\">\n",
       "  <thead>\n",
       "    <tr style=\"text-align: right;\">\n",
       "      <th></th>\n",
       "      <th>Documentos_Sospechosos</th>\n",
       "      <th>Similaridad_Coseno</th>\n",
       "      <th>Similaridad_Jaccard</th>\n",
       "      <th>Similaridad_Dice</th>\n",
       "    </tr>\n",
       "  </thead>\n",
       "  <tbody>\n",
       "    <tr>\n",
       "      <th>0</th>\n",
       "      <td>suspicious-document0001.txt</td>\n",
       "      <td>0.017990</td>\n",
       "      <td>0.020877</td>\n",
       "      <td>0.040900</td>\n",
       "    </tr>\n",
       "    <tr>\n",
       "      <th>1</th>\n",
       "      <td>suspicious-document0002.txt</td>\n",
       "      <td>0.021845</td>\n",
       "      <td>0.022124</td>\n",
       "      <td>0.043290</td>\n",
       "    </tr>\n",
       "    <tr>\n",
       "      <th>2</th>\n",
       "      <td>suspicious-document0003.txt</td>\n",
       "      <td>0.025316</td>\n",
       "      <td>0.040195</td>\n",
       "      <td>0.077283</td>\n",
       "    </tr>\n",
       "    <tr>\n",
       "      <th>3</th>\n",
       "      <td>suspicious-document0004.txt</td>\n",
       "      <td>0.083079</td>\n",
       "      <td>0.060914</td>\n",
       "      <td>0.114833</td>\n",
       "    </tr>\n",
       "    <tr>\n",
       "      <th>4</th>\n",
       "      <td>suspicious-document0005.txt</td>\n",
       "      <td>0.050743</td>\n",
       "      <td>0.040241</td>\n",
       "      <td>0.077369</td>\n",
       "    </tr>\n",
       "    <tr>\n",
       "      <th>...</th>\n",
       "      <td>...</td>\n",
       "      <td>...</td>\n",
       "      <td>...</td>\n",
       "      <td>...</td>\n",
       "    </tr>\n",
       "    <tr>\n",
       "      <th>2365</th>\n",
       "      <td>suspicious-document2366.txt</td>\n",
       "      <td>0.076460</td>\n",
       "      <td>0.076305</td>\n",
       "      <td>0.141791</td>\n",
       "    </tr>\n",
       "    <tr>\n",
       "      <th>2366</th>\n",
       "      <td>suspicious-document2367.txt</td>\n",
       "      <td>0.066530</td>\n",
       "      <td>0.077652</td>\n",
       "      <td>0.144112</td>\n",
       "    </tr>\n",
       "    <tr>\n",
       "      <th>2367</th>\n",
       "      <td>suspicious-document2368.txt</td>\n",
       "      <td>0.080629</td>\n",
       "      <td>0.054299</td>\n",
       "      <td>0.103004</td>\n",
       "    </tr>\n",
       "    <tr>\n",
       "      <th>2368</th>\n",
       "      <td>suspicious-document2369.txt</td>\n",
       "      <td>0.244168</td>\n",
       "      <td>0.110821</td>\n",
       "      <td>0.199531</td>\n",
       "    </tr>\n",
       "    <tr>\n",
       "      <th>2369</th>\n",
       "      <td>suspicious-document2370.txt</td>\n",
       "      <td>0.159698</td>\n",
       "      <td>0.123232</td>\n",
       "      <td>0.219424</td>\n",
       "    </tr>\n",
       "  </tbody>\n",
       "</table>\n",
       "<p>2370 rows × 4 columns</p>\n",
       "</div>"
      ],
      "text/plain": [
       "           Documentos_Sospechosos  Similaridad_Coseno  Similaridad_Jaccard  \\\n",
       "0     suspicious-document0001.txt            0.017990             0.020877   \n",
       "1     suspicious-document0002.txt            0.021845             0.022124   \n",
       "2     suspicious-document0003.txt            0.025316             0.040195   \n",
       "3     suspicious-document0004.txt            0.083079             0.060914   \n",
       "4     suspicious-document0005.txt            0.050743             0.040241   \n",
       "...                           ...                 ...                  ...   \n",
       "2365  suspicious-document2366.txt            0.076460             0.076305   \n",
       "2366  suspicious-document2367.txt            0.066530             0.077652   \n",
       "2367  suspicious-document2368.txt            0.080629             0.054299   \n",
       "2368  suspicious-document2369.txt            0.244168             0.110821   \n",
       "2369  suspicious-document2370.txt            0.159698             0.123232   \n",
       "\n",
       "      Similaridad_Dice  \n",
       "0             0.040900  \n",
       "1             0.043290  \n",
       "2             0.077283  \n",
       "3             0.114833  \n",
       "4             0.077369  \n",
       "...                ...  \n",
       "2365          0.141791  \n",
       "2366          0.144112  \n",
       "2367          0.103004  \n",
       "2368          0.199531  \n",
       "2369          0.219424  \n",
       "\n",
       "[2370 rows x 4 columns]"
      ]
     },
     "execution_count": 42,
     "metadata": {},
     "output_type": "execute_result"
    }
   ],
   "source": [
    "# creamos el df con los resultados de cada score de similaridad resultante del espacio vectorial y\n",
    "# los métodos utilizados previamente para Similaridad de Coseno, Similaridad de Jaccard y Similaridad de Dice.\n",
    "\n",
    "resultados = pd.DataFrame({\n",
    "    \"Documentos_Sospechosos\": archivos_nombres, \n",
    "    \"Similaridad_Coseno\": similaridades_coseno[0], \n",
    "    \"Similaridad_Jaccard\": similaridad_jaccard[0],\n",
    "    \"Similaridad_Dice\": similaridad_dice[0]\n",
    "})\n",
    "\n",
    "resultados"
   ]
  },
  {
   "cell_type": "code",
   "execution_count": 43,
   "id": "2fb76d8f-034b-4ce1-9c6f-512b081f8fad",
   "metadata": {},
   "outputs": [
    {
     "data": {
      "text/html": [
       "<div>\n",
       "<style scoped>\n",
       "    .dataframe tbody tr th:only-of-type {\n",
       "        vertical-align: middle;\n",
       "    }\n",
       "\n",
       "    .dataframe tbody tr th {\n",
       "        vertical-align: top;\n",
       "    }\n",
       "\n",
       "    .dataframe thead th {\n",
       "        text-align: right;\n",
       "    }\n",
       "</style>\n",
       "<table border=\"1\" class=\"dataframe\">\n",
       "  <thead>\n",
       "    <tr style=\"text-align: right;\">\n",
       "      <th></th>\n",
       "      <th>Documentos_Sospechosos</th>\n",
       "      <th>Similaridad_Coseno</th>\n",
       "      <th>Similaridad_Jaccard</th>\n",
       "      <th>Similaridad_Dice</th>\n",
       "    </tr>\n",
       "  </thead>\n",
       "  <tbody>\n",
       "    <tr>\n",
       "      <th>2368</th>\n",
       "      <td>suspicious-document2369.txt</td>\n",
       "      <td>0.244168</td>\n",
       "      <td>0.110821</td>\n",
       "      <td>0.199531</td>\n",
       "    </tr>\n",
       "    <tr>\n",
       "      <th>2078</th>\n",
       "      <td>suspicious-document2079.txt</td>\n",
       "      <td>0.175745</td>\n",
       "      <td>0.081285</td>\n",
       "      <td>0.150350</td>\n",
       "    </tr>\n",
       "    <tr>\n",
       "      <th>2058</th>\n",
       "      <td>suspicious-document2059.txt</td>\n",
       "      <td>0.174216</td>\n",
       "      <td>0.066055</td>\n",
       "      <td>0.123924</td>\n",
       "    </tr>\n",
       "    <tr>\n",
       "      <th>2363</th>\n",
       "      <td>suspicious-document2364.txt</td>\n",
       "      <td>0.170941</td>\n",
       "      <td>0.122970</td>\n",
       "      <td>0.219008</td>\n",
       "    </tr>\n",
       "    <tr>\n",
       "      <th>2369</th>\n",
       "      <td>suspicious-document2370.txt</td>\n",
       "      <td>0.159698</td>\n",
       "      <td>0.123232</td>\n",
       "      <td>0.219424</td>\n",
       "    </tr>\n",
       "    <tr>\n",
       "      <th>...</th>\n",
       "      <td>...</td>\n",
       "      <td>...</td>\n",
       "      <td>...</td>\n",
       "      <td>...</td>\n",
       "    </tr>\n",
       "    <tr>\n",
       "      <th>912</th>\n",
       "      <td>suspicious-document0913.txt</td>\n",
       "      <td>0.002752</td>\n",
       "      <td>0.011655</td>\n",
       "      <td>0.023041</td>\n",
       "    </tr>\n",
       "    <tr>\n",
       "      <th>781</th>\n",
       "      <td>suspicious-document0782.txt</td>\n",
       "      <td>0.002737</td>\n",
       "      <td>0.011628</td>\n",
       "      <td>0.022989</td>\n",
       "    </tr>\n",
       "    <tr>\n",
       "      <th>921</th>\n",
       "      <td>suspicious-document0922.txt</td>\n",
       "      <td>0.002714</td>\n",
       "      <td>0.011601</td>\n",
       "      <td>0.022936</td>\n",
       "    </tr>\n",
       "    <tr>\n",
       "      <th>1150</th>\n",
       "      <td>suspicious-document1151.txt</td>\n",
       "      <td>0.002688</td>\n",
       "      <td>0.011710</td>\n",
       "      <td>0.023148</td>\n",
       "    </tr>\n",
       "    <tr>\n",
       "      <th>902</th>\n",
       "      <td>suspicious-document0903.txt</td>\n",
       "      <td>0.002686</td>\n",
       "      <td>0.011682</td>\n",
       "      <td>0.023095</td>\n",
       "    </tr>\n",
       "  </tbody>\n",
       "</table>\n",
       "<p>2370 rows × 4 columns</p>\n",
       "</div>"
      ],
      "text/plain": [
       "           Documentos_Sospechosos  Similaridad_Coseno  Similaridad_Jaccard  \\\n",
       "2368  suspicious-document2369.txt            0.244168             0.110821   \n",
       "2078  suspicious-document2079.txt            0.175745             0.081285   \n",
       "2058  suspicious-document2059.txt            0.174216             0.066055   \n",
       "2363  suspicious-document2364.txt            0.170941             0.122970   \n",
       "2369  suspicious-document2370.txt            0.159698             0.123232   \n",
       "...                           ...                 ...                  ...   \n",
       "912   suspicious-document0913.txt            0.002752             0.011655   \n",
       "781   suspicious-document0782.txt            0.002737             0.011628   \n",
       "921   suspicious-document0922.txt            0.002714             0.011601   \n",
       "1150  suspicious-document1151.txt            0.002688             0.011710   \n",
       "902   suspicious-document0903.txt            0.002686             0.011682   \n",
       "\n",
       "      Similaridad_Dice  \n",
       "2368          0.199531  \n",
       "2078          0.150350  \n",
       "2058          0.123924  \n",
       "2363          0.219008  \n",
       "2369          0.219424  \n",
       "...                ...  \n",
       "912           0.023041  \n",
       "781           0.022989  \n",
       "921           0.022936  \n",
       "1150          0.023148  \n",
       "902           0.023095  \n",
       "\n",
       "[2370 rows x 4 columns]"
      ]
     },
     "execution_count": 43,
     "metadata": {},
     "output_type": "execute_result"
    }
   ],
   "source": [
    "# ¿Cuáles son los documentos sospechosos con mayor índice de plagio?\n",
    "\n",
    "resultados_ranking = resultados.sort_values('Similaridad_Coseno', ascending=False)\n",
    "resultados_ranking"
   ]
  },
  {
   "cell_type": "code",
   "execution_count": 47,
   "id": "22ec70cb-e7e4-48c1-b966-413ce6a2e94e",
   "metadata": {},
   "outputs": [
    {
     "data": {
      "text/html": [
       "<div>\n",
       "<style scoped>\n",
       "    .dataframe tbody tr th:only-of-type {\n",
       "        vertical-align: middle;\n",
       "    }\n",
       "\n",
       "    .dataframe tbody tr th {\n",
       "        vertical-align: top;\n",
       "    }\n",
       "\n",
       "    .dataframe thead th {\n",
       "        text-align: right;\n",
       "    }\n",
       "</style>\n",
       "<table border=\"1\" class=\"dataframe\">\n",
       "  <thead>\n",
       "    <tr style=\"text-align: right;\">\n",
       "      <th></th>\n",
       "      <th>Documentos_Sospechosos</th>\n",
       "      <th>Similaridad_Coseno</th>\n",
       "      <th>Similaridad_Jaccard</th>\n",
       "      <th>Similaridad_Dice</th>\n",
       "    </tr>\n",
       "  </thead>\n",
       "  <tbody>\n",
       "    <tr>\n",
       "      <th>2368</th>\n",
       "      <td>suspicious-document2369.txt</td>\n",
       "      <td>0.244168</td>\n",
       "      <td>0.110821</td>\n",
       "      <td>0.199531</td>\n",
       "    </tr>\n",
       "    <tr>\n",
       "      <th>2078</th>\n",
       "      <td>suspicious-document2079.txt</td>\n",
       "      <td>0.175745</td>\n",
       "      <td>0.081285</td>\n",
       "      <td>0.150350</td>\n",
       "    </tr>\n",
       "    <tr>\n",
       "      <th>2058</th>\n",
       "      <td>suspicious-document2059.txt</td>\n",
       "      <td>0.174216</td>\n",
       "      <td>0.066055</td>\n",
       "      <td>0.123924</td>\n",
       "    </tr>\n",
       "    <tr>\n",
       "      <th>2363</th>\n",
       "      <td>suspicious-document2364.txt</td>\n",
       "      <td>0.170941</td>\n",
       "      <td>0.122970</td>\n",
       "      <td>0.219008</td>\n",
       "    </tr>\n",
       "    <tr>\n",
       "      <th>2369</th>\n",
       "      <td>suspicious-document2370.txt</td>\n",
       "      <td>0.159698</td>\n",
       "      <td>0.123232</td>\n",
       "      <td>0.219424</td>\n",
       "    </tr>\n",
       "    <tr>\n",
       "      <th>2059</th>\n",
       "      <td>suspicious-document2060.txt</td>\n",
       "      <td>0.153756</td>\n",
       "      <td>0.069943</td>\n",
       "      <td>0.130742</td>\n",
       "    </tr>\n",
       "    <tr>\n",
       "      <th>2038</th>\n",
       "      <td>suspicious-document2039.txt</td>\n",
       "      <td>0.142314</td>\n",
       "      <td>0.081301</td>\n",
       "      <td>0.150376</td>\n",
       "    </tr>\n",
       "    <tr>\n",
       "      <th>2039</th>\n",
       "      <td>suspicious-document2040.txt</td>\n",
       "      <td>0.141998</td>\n",
       "      <td>0.081905</td>\n",
       "      <td>0.151408</td>\n",
       "    </tr>\n",
       "    <tr>\n",
       "      <th>1939</th>\n",
       "      <td>suspicious-document1940.txt</td>\n",
       "      <td>0.136490</td>\n",
       "      <td>0.065217</td>\n",
       "      <td>0.122449</td>\n",
       "    </tr>\n",
       "    <tr>\n",
       "      <th>99</th>\n",
       "      <td>suspicious-document0100.txt</td>\n",
       "      <td>0.128563</td>\n",
       "      <td>0.059406</td>\n",
       "      <td>0.112150</td>\n",
       "    </tr>\n",
       "    <tr>\n",
       "      <th>1546</th>\n",
       "      <td>suspicious-document1547.txt</td>\n",
       "      <td>0.125648</td>\n",
       "      <td>0.059633</td>\n",
       "      <td>0.112554</td>\n",
       "    </tr>\n",
       "    <tr>\n",
       "      <th>2219</th>\n",
       "      <td>suspicious-document2220.txt</td>\n",
       "      <td>0.125428</td>\n",
       "      <td>0.047273</td>\n",
       "      <td>0.090278</td>\n",
       "    </tr>\n",
       "    <tr>\n",
       "      <th>1410</th>\n",
       "      <td>suspicious-document1411.txt</td>\n",
       "      <td>0.125314</td>\n",
       "      <td>0.057208</td>\n",
       "      <td>0.108225</td>\n",
       "    </tr>\n",
       "    <tr>\n",
       "      <th>1438</th>\n",
       "      <td>suspicious-document1439.txt</td>\n",
       "      <td>0.122626</td>\n",
       "      <td>0.071274</td>\n",
       "      <td>0.133065</td>\n",
       "    </tr>\n",
       "    <tr>\n",
       "      <th>308</th>\n",
       "      <td>suspicious-document0309.txt</td>\n",
       "      <td>0.120170</td>\n",
       "      <td>0.056818</td>\n",
       "      <td>0.107527</td>\n",
       "    </tr>\n",
       "    <tr>\n",
       "      <th>619</th>\n",
       "      <td>suspicious-document0620.txt</td>\n",
       "      <td>0.113032</td>\n",
       "      <td>0.066798</td>\n",
       "      <td>0.125230</td>\n",
       "    </tr>\n",
       "    <tr>\n",
       "      <th>1047</th>\n",
       "      <td>suspicious-document1048.txt</td>\n",
       "      <td>0.112642</td>\n",
       "      <td>0.074725</td>\n",
       "      <td>0.139059</td>\n",
       "    </tr>\n",
       "    <tr>\n",
       "      <th>1418</th>\n",
       "      <td>suspicious-document1419.txt</td>\n",
       "      <td>0.111092</td>\n",
       "      <td>0.058511</td>\n",
       "      <td>0.110553</td>\n",
       "    </tr>\n",
       "    <tr>\n",
       "      <th>1938</th>\n",
       "      <td>suspicious-document1939.txt</td>\n",
       "      <td>0.109869</td>\n",
       "      <td>0.077419</td>\n",
       "      <td>0.143713</td>\n",
       "    </tr>\n",
       "    <tr>\n",
       "      <th>1262</th>\n",
       "      <td>suspicious-document1263.txt</td>\n",
       "      <td>0.109822</td>\n",
       "      <td>0.054920</td>\n",
       "      <td>0.104121</td>\n",
       "    </tr>\n",
       "  </tbody>\n",
       "</table>\n",
       "</div>"
      ],
      "text/plain": [
       "           Documentos_Sospechosos  Similaridad_Coseno  Similaridad_Jaccard  \\\n",
       "2368  suspicious-document2369.txt            0.244168             0.110821   \n",
       "2078  suspicious-document2079.txt            0.175745             0.081285   \n",
       "2058  suspicious-document2059.txt            0.174216             0.066055   \n",
       "2363  suspicious-document2364.txt            0.170941             0.122970   \n",
       "2369  suspicious-document2370.txt            0.159698             0.123232   \n",
       "2059  suspicious-document2060.txt            0.153756             0.069943   \n",
       "2038  suspicious-document2039.txt            0.142314             0.081301   \n",
       "2039  suspicious-document2040.txt            0.141998             0.081905   \n",
       "1939  suspicious-document1940.txt            0.136490             0.065217   \n",
       "99    suspicious-document0100.txt            0.128563             0.059406   \n",
       "1546  suspicious-document1547.txt            0.125648             0.059633   \n",
       "2219  suspicious-document2220.txt            0.125428             0.047273   \n",
       "1410  suspicious-document1411.txt            0.125314             0.057208   \n",
       "1438  suspicious-document1439.txt            0.122626             0.071274   \n",
       "308   suspicious-document0309.txt            0.120170             0.056818   \n",
       "619   suspicious-document0620.txt            0.113032             0.066798   \n",
       "1047  suspicious-document1048.txt            0.112642             0.074725   \n",
       "1418  suspicious-document1419.txt            0.111092             0.058511   \n",
       "1938  suspicious-document1939.txt            0.109869             0.077419   \n",
       "1262  suspicious-document1263.txt            0.109822             0.054920   \n",
       "\n",
       "      Similaridad_Dice  \n",
       "2368          0.199531  \n",
       "2078          0.150350  \n",
       "2058          0.123924  \n",
       "2363          0.219008  \n",
       "2369          0.219424  \n",
       "2059          0.130742  \n",
       "2038          0.150376  \n",
       "2039          0.151408  \n",
       "1939          0.122449  \n",
       "99            0.112150  \n",
       "1546          0.112554  \n",
       "2219          0.090278  \n",
       "1410          0.108225  \n",
       "1438          0.133065  \n",
       "308           0.107527  \n",
       "619           0.125230  \n",
       "1047          0.139059  \n",
       "1418          0.110553  \n",
       "1938          0.143713  \n",
       "1262          0.104121  "
      ]
     },
     "execution_count": 47,
     "metadata": {},
     "output_type": "execute_result"
    }
   ],
   "source": [
    "# Los documentos rankeados en el top 20 para cada sospechoso son: \n",
    "resultados_ranking = resultados_ranking.head(20)\n",
    "resultados_ranking"
   ]
  },
  {
   "cell_type": "markdown",
   "id": "30435a4b-7ee8-4d53-946a-675e36e5601c",
   "metadata": {},
   "source": [
    "<section style=\"background-color: powderblue;\">\n",
    "<br>\n",
    "\n",
    "# 7. Restulados Gráficos\n",
    "\n",
    "<br>\n",
    "</section>"
   ]
  },
  {
   "cell_type": "code",
   "execution_count": 48,
   "id": "c4cbf9c8-76f7-47f2-8ea6-f3e8160695ba",
   "metadata": {},
   "outputs": [
    {
     "data": {
      "image/png": "[encoded data removed]",
      "text/plain": [
       "<Figure size 640x480 with 1 Axes>"
      ]
     },
     "metadata": {},
     "output_type": "display_data"
    }
   ],
   "source": [
    "resultados_ranking_long = pd.melt(resultados_ranking, id_vars=[\"Documentos_Sospechosos\"], \n",
    "                          value_vars=[\"Similaridad_Coseno\", \"Similaridad_Jaccard\", \"Similaridad_Dice\"], \n",
    "                          var_name=\"Tipo_similaridad\", value_name=\"Valor_similaridad\")\n",
    "    \n",
    "sns.barplot(x='Documentos_Sospechosos', y='Valor_similaridad', hue='Tipo_similaridad', data= resultados_ranking_long)\n",
    "plt.xticks(rotation=90)\n",
    "plt.ylabel('Nivel de Similaridad')\n",
    "plt.title('Diferencia entre tipo de similaridad calculada (Coseno, Jaccard y Dice)');\n",
    "plt.savefig(\"Comparativo.png\", dpi=200, bbox_inches='tight')\n",
    "plt.show()"
   ]
  },
  {
   "cell_type": "markdown",
   "id": "9c0a26ab-f082-431b-8beb-4c8e060a4d58",
   "metadata": {},
   "source": [
    "<section style=\"background-color: powderblue;\">\n",
    "<br>\n",
    "\n",
    "# 8. Conclusiones\n",
    "\n",
    "<br>\n",
    "</section>"
   ]
  },
  {
   "cell_type": "markdown",
   "id": "10c8e06a-dcdb-4a0a-bfae-679b73e6d949",
   "metadata": {},
   "source": [
    "1. Como se establece en Manning & Shütze (1999), página 299, la métrica de Jaccard penaliza casi al doble del criterio de Dice a aquellos documentos que comparten una proporción muy pequeña de sus elementos (como una propoción de todos los elementos no-cero). Ambos miden en el rango de 0 (no hay traslape entre los elementos) y 1 (existe traslape perfecto entre todos los elementos). Pero el coeficiente de Jaccard proporciona bajos valores para los casos donde el traslape es bajo. El ejemplo del autor es muy claro: dos listas con 10 elementos \"no cero\" y sólo una entrada en común proporciona los siguientes valores: Dice = 2x1/(10+10)=0.1 y Jaccard = 1/(10+10-1)=0.5.\n",
    "\n",
    "2. Lo que se pudo confirmar en la literatura revisada fue que la clasificación ***tf-idf*** clasifica los documentos como un todo y a las palabras según el contexto (la repetición de las palabras cercanas). En este sentido, las similaridades de Jaccard y Dice toman solamente un conjunto único de palabras para cada oración o documento; mientras que el algoritmo de coseno toma la dimensión total de los vectores (lenguaje común elaborado con todos los componentes de todos los documentos normalizados).\n",
    "\n",
    "3. En este sentido, si encontramos repetida varias veces la palabra \"commission\" en la oración 1 o en el documento 1, la similaridad de coseno cambiará. Mientras que la similaridad de Jaccard o Dice no cambiará (En otras palabras, la repetición si importa en el caso de la similaridad de coseno).\n",
    "\n",
    "3. Esta actividad permitió confirmar cómo se comporta una similaridad de coseno. Según este artículo \"A Survey of Text Similarity Approaches\" de Gomathi y Suresh y disponible en: https://www.researchgate.net/publication/259181798_A_Survey_of_Text_Similarity_Approaches, esta técnica es más común para comparación de textos y las de Dice y Jaccard son más usadas comunmente para tareas de clustering y clasificación."
   ]
  },
  {
   "cell_type": "markdown",
   "id": "87d19845-02c4-4492-be6f-1681ee9d11dd",
   "metadata": {},
   "source": [
    "### Bibliografía y referencias electrónicas\n",
    "\n",
    "- Library NLTK para entender el método sent_tokenize y el módulo PunktSentenceTokenizer. Disponible en: https://www.nltk.org/api/nltk.tokenize.html y en https://www.nltk.org/api/nltk.tokenize.punkt.html#:~:text=Punkt%20Sentence%20Tokenizer,before%20it%20can%20be%20used. \n",
    "- Modelado del espacio vectorial, disponible en: https://youtu.be/2oF5Me0oKgw\n",
    "- Python List extend() Method, disponible en Geek for Geeks\n",
    "- Euclidean Distance & Cosine Similarity | Introduction to Data Mining part 18, disponible en: https://youtu.be/Dd16LVt5ct4\n",
    "- Overview of Text Similarity Metrics in Python, available at: https://towardsdatascience.com/overview-of-text-similarity-metrics-3397c4601f50\n",
    "- Cosine similarity, cosine distance explained | Math, Statistics for data science, machine learning, disponible en: https://youtu.be/m_CooIRM3UI\n",
    "- Finding Word Similarity using TF-IDF and Cosine in a Term-Context Matrix from Scratch in Python, disponible en: https://towardsdatascience.com/finding-word-similarity-using-tf-idf-in-a-term-context-matrix-from-scratch-in-python-e423533a407\n",
    "- Using List as default_factory en Geek for Geeks. Disponible en: https://www.geeksforgeeks.org/defaultdict-in-python/.\n",
    "- Text Normalization for Natural Language Processing in Python. Disponible en: https://lvngd.com/blog/text-normalization-natural-language-processing-python/\n"
   ]
  }
 ],
 "metadata": {
  "kernelspec": {
   "display_name": "Python 3 (ipykernel)",
   "language": "python",
   "name": "python3"
  },
  "language_info": {
   "codemirror_mode": {
    "name": "ipython",
    "version": 3
   },
   "file_extension": ".py",
   "mimetype": "text/x-python",
   "name": "python",
   "nbconvert_exporter": "python",
   "pygments_lexer": "ipython3",
   "version": "3.8.15"
  }
 },
 "nbformat": 4,
 "nbformat_minor": 5
}
